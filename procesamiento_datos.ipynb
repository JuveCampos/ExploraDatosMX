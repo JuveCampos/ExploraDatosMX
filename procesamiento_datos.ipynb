{
 "cells": [
  {
   "cell_type": "markdown",
   "metadata": {},
   "source": [
    "# Imports"
   ]
  },
  {
   "cell_type": "code",
   "execution_count": 1,
   "metadata": {},
   "outputs": [],
   "source": [
    "import pandas as pd\n",
    "import matplotlib.pyplot as plt\n",
    "import seaborn as sns\n",
    "import re\n",
    "import plotly\n",
    "import plotly.plotly as py\n",
    "import plotly.graph_objs as go\n",
    "# Llenar credenciales para poder reroducir gráficas en Plotly:\n",
    "# plotly.tools.set_credentials_file(username='', api_key='')\n",
    "pd.options.display.max_colwidth = 300\n",
    "dir_datos = 'D:/datos/presupuesto_mexico'\n",
    "%matplotlib inline"
   ]
  },
  {
   "cell_type": "markdown",
   "metadata": {},
   "source": [
    "# Pre-procesando bases"
   ]
  },
  {
   "cell_type": "markdown",
   "metadata": {
    "heading_collapsed": true
   },
   "source": [
    "## Precios"
   ]
  },
  {
   "cell_type": "code",
   "execution_count": 2,
   "metadata": {
    "hidden": true
   },
   "outputs": [],
   "source": [
    "deflactor = pd.read_excel('datos/inflacion_acumulada_1970_2018.xls', header=3, skipfooter=5)\\\n",
    "    .assign(year=lambda x: x['Periodo'].str[0:4].astype(int),\n",
    "           mes=lambda x: x['Periodo'].str[5:].astype(int))\\\n",
    "    .rename(columns={'Índice general ': 'inpc'})\\\n",
    "    .query('mes==12')\\\n",
    "    .sort_values('year')\\\n",
    "    .set_index('year')\\\n",
    "    .assign(indice=lambda x: x['inpc'].apply(lambda x: (1+x/100)).cumprod())\\\n",
    "    .assign(deflactor=lambda x: x.loc[2018, 'indice']/x['indice'])\\\n",
    "    .reset_index()\\\n",
    "    [['year', 'deflactor']]\\\n",
    "    .append(pd.DataFrame([{'year': 2019, 'deflactor': 0.9671}]), sort=True)\n",
    "deflactor.to_csv('datos/deflactor_2018.csv', index=False)"
   ]
  },
  {
   "cell_type": "markdown",
   "metadata": {},
   "source": [
    "## Presupuesto"
   ]
  },
  {
   "cell_type": "code",
   "execution_count": null,
   "metadata": {},
   "outputs": [],
   "source": [
    "df = pd.concat([pd.read_csv(f'{dir_datos}/{y}.csv') for y in range(2013, 2020)])\n",
    "df.to_csv(f'{dir_datos}/presupuesto_2013_2019.csv', index=False)"
   ]
  },
  {
   "cell_type": "code",
   "execution_count": 3,
   "metadata": {
    "scrolled": true
   },
   "outputs": [
    {
     "name": "stderr",
     "output_type": "stream",
     "text": [
      "C:\\ProgramData\\Anaconda3\\lib\\site-packages\\IPython\\core\\interactiveshell.py:2728: DtypeWarning: Columns (19,28,31) have mixed types. Specify dtype option on import or set low_memory=False.\n",
      "  interactivity=interactivity, compiler=compiler, result=result)\n"
     ]
    }
   ],
   "source": [
    "deflactor = pd.read_csv('datos/deflactor_2018.csv').query('year>=2013')\n",
    "\n",
    "df = pd.read_csv(f'{dir_datos}/presupuesto_2013_2019.csv')\\\n",
    "    .assign(ID_PP=lambda x: x['ID_PP'].astype(str).str.zfill(3))\\\n",
    "    .assign(id_pp=lambda x: x['ID_MODALIDAD']+x['ID_PP'])\\\n",
    "    .set_index('CICLO')\n",
    "df['aprobado'] = (df['MONTO_APROBADO']*deflactor.set_index('year')['deflactor'])\n",
    "df.reset_index(inplace=True)\n",
    "\n",
    "\n",
    "dh = df.loc[df['DESC_PP'].str.contains('derechos humanos', case=False)|\n",
    "      df['DESC_RAMO'].str.lower().str.contains('derechos humanos', case=False)]\\\n",
    "    .assign(ID_PP=lambda x: x['ID_PP'].astype(str).str.zfill(3))\\\n",
    "    .assign(id_pp=lambda x: x['ID_MODALIDAD']+x['ID_PP'])\\\n",
    "    .set_index('CICLO')\n",
    "\n",
    "dh['aprobado'] = (dh['MONTO_APROBADO']*deflactor.set_index('year')['deflactor'])\n",
    "dh['ejercicio'] = dh['MONTO_EJERCICIO']*deflactor.set_index('year')['deflactor']\n",
    "dh['ejercido'] = dh['MONTO_EJERCIDO']*deflactor.set_index('year')['deflactor']\n",
    "dh['modificado'] = dh['MONTO_MODIFICADO']*deflactor.set_index('year')['deflactor']\n",
    "dh['devengado'] = dh['MONTO_DEVENGADO']*deflactor.set_index('year')['deflactor']\n",
    "dh['pagado'] = dh['MONTO_PAGADO']*deflactor.set_index('year')['deflactor']\n",
    "dh.to_csv(f'presupuesto_ddhh_2013_2019.csv', index=True)"
   ]
  },
  {
   "cell_type": "markdown",
   "metadata": {
    "heading_collapsed": true
   },
   "source": [
    "## Entradas y salidas de PP"
   ]
  },
  {
   "cell_type": "code",
   "execution_count": null,
   "metadata": {
    "hidden": true
   },
   "outputs": [],
   "source": [
    "# Entradas y salidas de PPs\n",
    "writer = pd.ExcelWriter('entradas_salidas_pp.xlsx', engine='xlsxwriter')\n",
    "dh.groupby(['CICLO', 'DESC_RAMO']).apply(lambda x: set(x['id_pp'].unique().tolist())).to_frame('pp')\\\n",
    "    .assign(entran=lambda z: z.groupby('DESC_RAMO').transform(lambda y: y.diff(1)),\n",
    "            salen=lambda z: z.groupby('DESC_RAMO').transform(lambda y: y.diff(-1).shift(1)))\\\n",
    "    .to_excel(writer, sheet_name='year_ramo')\n",
    "    #.assign(acumulado=lambda z: z.groupby(['DESC_RAMO'])['pp'].apply(lambda v: v.apply(list).cumsum().apply(set).shift(2)))\\\n",
    "    #.assign(reingreso=lambda u: u['entran']-u['entran'])\n",
    "dh.groupby(['CICLO']).apply(lambda x: set(x['id_pp'].unique().tolist())).to_frame('pp')\\\n",
    "    .assign(entran=lambda z: z['pp'].diff(1),\n",
    "            salen=lambda z: z['pp'].diff(-1).shift(1))\\\n",
    "    .to_excel(writer, sheet_name='year')    \n",
    "writer.save()"
   ]
  },
  {
   "cell_type": "markdown",
   "metadata": {},
   "source": [
    "# Análisis"
   ]
  },
  {
   "cell_type": "markdown",
   "metadata": {
    "heading_collapsed": true
   },
   "source": [
    "## Leyendo datos"
   ]
  },
  {
   "cell_type": "code",
   "execution_count": 6,
   "metadata": {
    "hidden": true
   },
   "outputs": [
    {
     "name": "stderr",
     "output_type": "stream",
     "text": [
      "C:\\ProgramData\\Anaconda3\\lib\\site-packages\\IPython\\core\\interactiveshell.py:2728: DtypeWarning:\n",
      "\n",
      "Columns (19,28,31) have mixed types. Specify dtype option on import or set low_memory=False.\n",
      "\n"
     ]
    }
   ],
   "source": [
    "dh = pd.read_csv('datos/presupuesto_ddhh_2013_2019.csv') / 1000000\n",
    "df = pd.read_csv(dir_datos+'/presupuesto_2013_2019.csv')\n",
    "deflactor = pd.read_csv('datos/deflactor_2018.csv').query('year>=2013')\n",
    "dh.set_index('CICLO', inplace=True)"
   ]
  },
  {
   "cell_type": "markdown",
   "metadata": {
    "heading_collapsed": true
   },
   "source": [
    "## Total"
   ]
  },
  {
   "cell_type": "code",
   "execution_count": 10,
   "metadata": {
    "hidden": true
   },
   "outputs": [
    {
     "data": {
      "text/html": [
       "<iframe id=\"igraph\" scrolling=\"no\" style=\"border:none;\" seamless=\"seamless\" src=\"https://plot.ly/~jjsantos/25.embed\" height=\"525px\" width=\"100%\"></iframe>"
      ],
      "text/plain": [
       "<plotly.tools.PlotlyDisplay object>"
      ]
     },
     "execution_count": 10,
     "metadata": {},
     "output_type": "execute_result"
    }
   ],
   "source": [
    "# Add data\n",
    "dh_total = dh.groupby(['CICLO'])['aprobado'].sum().reset_index()\n",
    "# Create and style traces\n",
    "data = [go.Scatter(\n",
    "    x = dh_total['CICLO'],\n",
    "    y = dh_total['aprobado']/1000000,\n",
    "    line = dict(\n",
    "        color = ('rgb(205, 12, 24)'),\n",
    "        width = 4)\n",
    ")]\n",
    "\n",
    "\n",
    "# Edit the layout\n",
    "layout = dict(title = 'Gasto en programas presupuestarios de Derechos Humanos',\n",
    "              xaxis = dict(title = ''),\n",
    "              yaxis = dict(title = 'Millone de pesos (2018)',\n",
    "                          rangemode='tozero', autorange=True),\n",
    "              )\n",
    "\n",
    "fig = dict(data=data, layout=layout)\n",
    "py.iplot(fig, filename='presup-ddhh-total')"
   ]
  },
  {
   "cell_type": "markdown",
   "metadata": {
    "heading_collapsed": true
   },
   "source": [
    "## Por ramo"
   ]
  },
  {
   "cell_type": "code",
   "execution_count": 11,
   "metadata": {
    "hidden": true
   },
   "outputs": [
    {
     "data": {
      "text/html": [
       "<iframe id=\"igraph\" scrolling=\"no\" style=\"border:none;\" seamless=\"seamless\" src=\"https://plot.ly/~jjsantos/27.embed\" height=\"525px\" width=\"100%\"></iframe>"
      ],
      "text/plain": [
       "<plotly.tools.PlotlyDisplay object>"
      ]
     },
     "execution_count": 11,
     "metadata": {},
     "output_type": "execute_result"
    }
   ],
   "source": [
    "dicc_ramos = {'Comisión Nacional de los Derechos Humanos': 'CNDH',\n",
    "             'Defensa Nacional': 'Defensa',\n",
    "              'Instituto Nacional de Transparencia, Acceso a la Información y Protección de Datos Personales': 'INAI',\n",
    "              'Gobernación': 'SEGOB',\n",
    "             'Procuraduría General de la República': 'PGR',\n",
    "             'Relaciones Exteriores': 'SRE',\n",
    "             'Seguridad Pública': 'SSP'}\n",
    "dh_ramo = dh.query('CICLO==2019').groupby(['DESC_RAMO'])[['aprobado']].sum()\n",
    "data_ramo = (100*(dh_ramo/dh_ramo.sum())).reset_index().replace({'DESC_RAMO': dicc_ramos})\n",
    "\n",
    "fig = {\n",
    "  \"data\": [\n",
    "    {\n",
    "      \"values\": data_ramo['aprobado'].tolist(),\n",
    "      \"labels\": data_ramo['DESC_RAMO'].tolist(),\n",
    "      \"domain\": {\"x\": [0, 1]},\n",
    "      \"hoverinfo\":\"label+percent\",\n",
    "      \"hole\": .6,\n",
    "      \"type\": \"pie\"\n",
    "    }],\n",
    "     \"layout\": {\n",
    "        \"title\":\"Distribución del presupuesto en DDHH por ramo, 2019\",\n",
    "        \"annotations\": [\n",
    "            {\n",
    "                \"font\": {\n",
    "                    \"size\": 20\n",
    "                },\n",
    "                \"showarrow\": False,\n",
    "                \"text\": \"Participación <br> %\",\n",
    "                \"x\": 0.5,\n",
    "                \"y\": 0.5\n",
    "            },\n",
    "        ]\n",
    "    }\n",
    "}\n",
    "py.iplot(fig, filename='presup-ddhh-ramos')"
   ]
  },
  {
   "cell_type": "markdown",
   "metadata": {},
   "source": [
    "## Gasto en programas"
   ]
  },
  {
   "cell_type": "code",
   "execution_count": 12,
   "metadata": {},
   "outputs": [
    {
     "data": {
      "text/plain": [
       "['Atender asuntos relacionados con las personas migrantes',\n",
       " 'Atender asuntos relacionados con personas reportadas como desaparecidas, extraviadas, ausentes y fallecidas no identificadas',\n",
       " 'Atender asuntos relacionados con niñas, niños y adolescentes',\n",
       " 'Atender asuntos relacionados con sexualidad, salud y VIH',\n",
       " 'Promover, divulgar, dar seguimiento, evaluar y monitorear la política nacional en materia de igualdad entre mujeres y hombres, y atender asuntos de la mujer',\n",
       " 'Promover el respeto de los derechos humanos de periodistas y personas defensores de derechos humanos',\n",
       " 'Atender asuntos relacionados con personas reportadas como desaparecidas y no localizadas',\n",
       " 'Atender asuntos relacionados con niñas, niños y adolescentes.',\n",
       " 'Atender asuntos relacionados con Sexualidad, Salud y VIH',\n",
       " 'Realizar la promoción y observancia en el monitoreo, seguimiento y evaluación del impacto de la política nacional en materia de igualdad entre mujeres y hombres.',\n",
       " 'Promover el respeto de los Derechos Humanos de periodistas y personas defensores de Derechos Humanos.']"
      ]
     },
     "execution_count": 12,
     "metadata": {},
     "output_type": "execute_result"
    }
   ],
   "source": [
    "[x for x in dh.query('CICLO==[2018, 2019]').DESC_PP.unique() if re.search('mujer|niñ|lgbt|migra|period|sex|desap|indig', x, re.I)]"
   ]
  },
  {
   "cell_type": "code",
   "execution_count": 115,
   "metadata": {},
   "outputs": [],
   "source": [
    "dicc_replace_hm = {'realizar la promoción y observancia en el monitoreo, seguimiento y evaluación del impacto de la política nacional en materia de igualdad entre mujeres y hombres':\n",
    "                  'promover, divulgar, dar seguimiento, evaluar y monitorear la política nacional en materia de igualdad entre mujeres y hombres, y atender asuntos de la mujer',\n",
    "                  'atender asuntos relacionados con personas reportadas como desaparecidas, extraviadas, ausentes y fallecidas no identificadas':\n",
    "                   'atender asuntos relacionados con personas reportadas como desaparecidas y no localizadas'}\n",
    "pps_dh = [x for x in dh.query('CICLO==[2018, 2019]').DESC_PP.unique() if re.search('mujer|niñ|lgbt|migra|period|sex|desap', x, re.I)]\n",
    "dh_pp_cndh = dh.query('DESC_PP==@pps_dh & CICLO==[2018, 2019]')\\\n",
    "    .assign(pp=lambda x: (x['DESC_PP'].str.replace('.', '').str.lower())\\\n",
    "           .replace(dicc_replace_hm))\\\n",
    "    .groupby(['CICLO', 'pp']).sum()[['aprobado']]\\\n",
    "    .unstack(0).reset_index().sort_values(('aprobado', 2018))\n",
    "dh_pp_cndh['diff'] = dh_pp_cndh['aprobado'][2018]-dh_pp_cndh['aprobado'][2019]\n",
    "dicc_pp_cndh = {'atender asuntos relacionados con sexualidad, salud y vih': 'Sexualidad,<br> salud<br> y VIH',\n",
    "               'atender asuntos relacionados con niñas, niños y adolescentes': 'Niñas,<br> niños y <br> adolescentes',\n",
    "               'promover el respeto de los derechos humanos de periodistas y personas defensores de derechos humanos': 'Periodistas <br> y defensores<br> de DDHH',\n",
    "               'promover, divulgar, dar seguimiento, evaluar y monitorear la política nacional en materia de igualdad entre mujeres y hombres, y atender asuntos de la mujer': 'Igualdad<br> de género',\n",
    "               'atender asuntos relacionados con las personas migrantes': 'Personas <br>migrantes',\n",
    "               'atender asuntos relacionados con personas reportadas como desaparecidas y no localizadas': 'Personas<br> desaparecidas'}"
   ]
  },
  {
   "cell_type": "code",
   "execution_count": 121,
   "metadata": {},
   "outputs": [
    {
     "data": {
      "text/plain": [
       "3    0.217453\n",
       "1    0.456025\n",
       "4    0.172772\n",
       "2    0.244682\n",
       "5    0.100800\n",
       "0    0.082172\n",
       "dtype: float64"
      ]
     },
     "execution_count": 121,
     "metadata": {},
     "output_type": "execute_result"
    }
   ],
   "source": [
    "dh_pp_cndh['var_procentual'] = 100*(dh_pp_cndh['diff']/dh_pp_cndh['aprobado'][2018])\n",
    "dh_pp_cndh\n"
   ]
  },
  {
   "cell_type": "code",
   "execution_count": 322,
   "metadata": {
    "scrolled": false
   },
   "outputs": [
    {
     "data": {
      "text/html": [
       "<iframe id=\"igraph\" scrolling=\"no\" style=\"border:none;\" seamless=\"seamless\" src=\"https://plot.ly/~jjsantos/31.embed\" height=\"525px\" width=\"100%\"></iframe>"
      ],
      "text/plain": [
       "<plotly.tools.PlotlyDisplay object>"
      ]
     },
     "execution_count": 322,
     "metadata": {},
     "output_type": "execute_result"
    }
   ],
   "source": [
    "x = dh_pp_cndh['pp'].map(dicc_pp_cndh)\n",
    "trace1 = {\n",
    "  'x': dh_pp_cndh['aprobado'][2019],\n",
    "  'y': x,\n",
    "  'hovertext': '2019',\n",
    "  \"hoverinfo\":\"text\",\n",
    "  'name': '2019',\n",
    "  'type': 'bar',\n",
    "  'orientation': 'h',\n",
    "  'marker': dict(\n",
    "        color='rgba(55, 128, 191, 0.7)',\n",
    "        line=dict(\n",
    "            color='rgba(55, 128, 191, 1.0)',\n",
    "            width=2,\n",
    "        )\n",
    "    )\n",
    "};\n",
    "trace2 = {\n",
    "  'x': dh_pp_cndh['aprobado'][2018],\n",
    "  'y': x,\n",
    "  'hovertext': '2018',\n",
    "  \"hoverinfo\":\"text\",\n",
    "  'name': '2018',\n",
    "  'type': 'bar',\n",
    "  'orientation': 'h',\n",
    "    'marker': dict(\n",
    "        color='rgba(219, 64, 82, 0.7)',\n",
    "        line=dict(\n",
    "            color='rgba(219, 64, 82, 1.0)',\n",
    "            width=2,\n",
    "        )\n",
    "    )\n",
    "};\n",
    "\n",
    "data = [trace1, trace2];\n",
    "layout = {\n",
    "  'xaxis': {'title': ''},\n",
    "  'xaxis': {'title': 'Millones de pesos (a precios de 2018 )'},\n",
    "  'title': 'Gasto en programas de población específica de la CNDH'\n",
    "};\n",
    "py.iplot({'data': data, 'layout': layout}, filename='presup-cndh')"
   ]
  },
  {
   "cell_type": "markdown",
   "metadata": {
    "heading_collapsed": true
   },
   "source": [
    "## Gasto en ddhh en otros ramos"
   ]
  },
  {
   "cell_type": "code",
   "execution_count": 326,
   "metadata": {
    "hidden": true,
    "scrolled": false
   },
   "outputs": [
    {
     "data": {
      "text/html": [
       "<iframe id=\"igraph\" scrolling=\"no\" style=\"border:none;\" seamless=\"seamless\" src=\"https://plot.ly/~jjsantos/33.embed\" height=\"525px\" width=\"100%\"></iframe>"
      ],
      "text/plain": [
       "<plotly.tools.PlotlyDisplay object>"
      ]
     },
     "execution_count": 326,
     "metadata": {},
     "output_type": "execute_result"
    }
   ],
   "source": [
    "dh_pp_otros= dh.query('ID_RAMO==[7, 4, 17] & CICLO==[2018, 2019]')\\\n",
    "    .assign(pp=lambda x: (x['DESC_PP'].str.lower()))\\\n",
    "    .groupby(['CICLO', 'pp']).sum()[['aprobado']]\\\n",
    "    .unstack(0)\\\n",
    "    .reset_index()\\\n",
    "    .sort_values(('aprobado', 2019), ascending=True)\n",
    "dh_pp_otros['diff'] = dh_pp_otros['aprobado'][2018]-dh_pp_otros['aprobado'][2019]\n",
    "dicc_pp_otros = {'derechos humanos': 'Derechos<br> Humanos<br> (Defensa)',\n",
    "               'programa de derechos humanos': 'Programa <br> DDHH <br> (SEGOB)',\n",
    "               'promover la protección de los derechos humanos y prevenir la discriminación': 'Prevenir <br> discriminación <br> (SEGOB)',\n",
    "               'promoción del respeto a los derechos humanos y atención a víctimas del delito': 'Respeto<br> victimas <br> delito <br> (PGR)'}\n",
    "x = dh_pp_otros['pp'].map(dicc_pp_otros)\n",
    "trace1 = {\n",
    "  'x': dh_pp_otros['aprobado'][2019],\n",
    "  'y': x,\n",
    "  'hovertext': '2019',\n",
    "  \"hoverinfo\":\"text\",\n",
    "  'name': '2019',\n",
    "  'type': 'bar',\n",
    "  'orientation': 'h',\n",
    "  'marker': dict(\n",
    "        color='rgba(55, 128, 191, 0.7)',\n",
    "        line=dict(\n",
    "            color='rgba(55, 128, 191, 1.0)',\n",
    "            width=2,\n",
    "        )\n",
    "    )\n",
    "};\n",
    "trace2 = {\n",
    "  'x': dh_pp_otros['aprobado'][2018],\n",
    "  'y': x,\n",
    "  'hovertext': '2018',\n",
    "  \"hoverinfo\":\"text\",\n",
    "  'name': '2018',\n",
    "  'type': 'bar',\n",
    "  'orientation': 'h',\n",
    "    'marker': dict(\n",
    "        color='rgba(219, 64, 82, 0.7)',\n",
    "        line=dict(\n",
    "            color='rgba(219, 64, 82, 1.0)',\n",
    "            width=2,\n",
    "        )\n",
    "    )\n",
    "};\n",
    "\n",
    "data = [trace1, trace2];\n",
    "layout = {\n",
    "  'xaxis': {'title': ''},\n",
    "  'xaxis': {'title': 'Millones de pesos (a precios de 2018 )'},\n",
    "  'title': 'Gasto en programas de DDHH, en los ramos Defensa, SEGOB y PGR',\n",
    "};\n",
    "py.iplot({'data': data, 'layout': layout}, filename='presup-ddhh-otros')"
   ]
  },
  {
   "cell_type": "markdown",
   "metadata": {
    "heading_collapsed": true
   },
   "source": [
    "## Gasto por entidad"
   ]
  },
  {
   "cell_type": "code",
   "execution_count": 14,
   "metadata": {
    "hidden": true
   },
   "outputs": [
    {
     "data": {
      "text/plain": [
       "ENTIDAD_FEDERATIVA\n",
       "Aguascalientes            7.732055\n",
       "Baja California          10.136158\n",
       "Baja California Sur       6.378394\n",
       "Chiapas                  19.735329\n",
       "Chihuahua                11.167462\n",
       "Ciudad de México       2406.484846\n",
       "Coahuila                  9.090201\n",
       "Guerrero                  7.626391\n",
       "Michoacán                 6.467911\n",
       "Oaxaca                    8.891916\n",
       "San Luis Potosí           9.010551\n",
       "Sonora                   12.075835\n",
       "Tabasco                   9.457116\n",
       "Tamaulipas               11.411739\n",
       "Veracruz                  8.895115\n",
       "Yucatán                   8.027444\n",
       "Name: aprobado, dtype: float64"
      ]
     },
     "execution_count": 14,
     "metadata": {},
     "output_type": "execute_result"
    }
   ],
   "source": [
    "dh.query('CICLO==2019')\\\n",
    "    .groupby('ENTIDAD_FEDERATIVA')['aprobado'].sum()/1000000"
   ]
  },
  {
   "cell_type": "code",
   "execution_count": 15,
   "metadata": {
    "hidden": true
   },
   "outputs": [
    {
     "data": {
      "text/html": [
       "<iframe id=\"igraph\" scrolling=\"no\" style=\"border:none;\" seamless=\"seamless\" src=\"https://plot.ly/~jjsantos/35.embed\" height=\"525px\" width=\"100%\"></iframe>"
      ],
      "text/plain": [
       "<plotly.tools.PlotlyDisplay object>"
      ]
     },
     "execution_count": 15,
     "metadata": {},
     "output_type": "execute_result"
    }
   ],
   "source": [
    "dh_ent = dh.query('CICLO==2019 & ENTIDAD_FEDERATIVA!=\"Ciudad de México\"')\\\n",
    "    .replace({'ENTIDAD_FEDERATIVA': {'Baja California Sur': 'BCS'}})\\\n",
    "    .groupby('ENTIDAD_FEDERATIVA')['aprobado'].sum()\\\n",
    "    .reset_index()\\\n",
    "    .sort_values('aprobado', ascending=False)\n",
    "    \n",
    "trace1 = {\n",
    "  'x': dh_ent['ENTIDAD_FEDERATIVA'],\n",
    "  'y': dh_ent['aprobado']/1000000,\n",
    "  'type': 'bar',\n",
    "  'orientation': 'v',\n",
    "  'marker': dict(\n",
    "        color='rgba(55, 128, 191, 0.7)',\n",
    "        line=dict(\n",
    "            color='rgba(55, 128, 191, 1.0)',\n",
    "            width=2,\n",
    "        )\n",
    "    )\n",
    "}\n",
    "\n",
    "data = [trace1];\n",
    "layout = {\n",
    "  'xaxis': {'title': ''},\n",
    "  'yaxis': {'title': 'Millones de pesos (a precios de 2018 )'},\n",
    "  'title': 'Gasto en programas presupuestales de DDHH, por entidad, 2019',\n",
    "  'annotations': [\n",
    "        dict(\n",
    "            x=0,\n",
    "            y=-0.25,\n",
    "            showarrow=False,\n",
    "            text='Nota: excluimos la Ciudad de México para evitar problemas con la escala.',\n",
    "            xref='paper',\n",
    "            yref='paper'\n",
    "        )]\n",
    "};\n",
    "py.iplot({'data': data, 'layout': layout}, filename='presup-ddhh-entidad')"
   ]
  },
  {
   "cell_type": "code",
   "execution_count": 309,
   "metadata": {
    "hidden": true
   },
   "outputs": [
    {
     "data": {
      "text/plain": [
       "Index(['DESC_AI', 'DESC_CAPITULO', 'DESC_CONCEPTO', 'DESC_FF', 'DESC_FUNCION',\n",
       "       'DESC_GPO_FUNCIONAL', 'DESC_MODALIDAD', 'DESC_PARTIDA_ESPECIFICA',\n",
       "       'DESC_PARTIDA_GENERICA', 'DESC_PP', 'DESC_RAMO', 'DESC_SUBFUNCION',\n",
       "       'DESC_TIPOGASTO', 'DESC_UR', 'ENTIDAD_FEDERATIVA', 'GPO_FUNCIONAL',\n",
       "       'ID_AI', 'ID_CAPITULO', 'ID_CLAVE_CARTERA', 'ID_CONCEPTO',\n",
       "       'ID_ENTIDAD_FEDERATIVA', 'ID_FF', 'ID_FUNCION', 'ID_MODALIDAD',\n",
       "       'ID_PARTIDA_ESPECIFICA', 'ID_PARTIDA_GENERICA', 'ID_PP', 'ID_RAMO',\n",
       "       'ID_SUBFUNCION', 'ID_TIPOGASTO', 'ID_UR', 'MONTO_ADEFAS',\n",
       "       'MONTO_APROBADO', 'MONTO_DEVENGADO', 'MONTO_EJERCICIO',\n",
       "       'MONTO_EJERCIDO', 'MONTO_MODIFICADO', 'MONTO_PAGADO', 'id_pp',\n",
       "       'aprobado', 'ejercicio', 'ejercido', 'modificado', 'devengado',\n",
       "       'pagado'],\n",
       "      dtype='object')"
      ]
     },
     "execution_count": 309,
     "metadata": {},
     "output_type": "execute_result"
    }
   ],
   "source": [
    "dh.keys()"
   ]
  },
  {
   "cell_type": "markdown",
   "metadata": {
    "heading_collapsed": true
   },
   "source": [
    "## Por concepto"
   ]
  },
  {
   "cell_type": "code",
   "execution_count": 46,
   "metadata": {
    "hidden": true,
    "scrolled": false
   },
   "outputs": [
    {
     "data": {
      "text/html": [
       "<iframe id=\"igraph\" scrolling=\"no\" style=\"border:none;\" seamless=\"seamless\" src=\"https://plot.ly/~jjsantos/37.embed\" height=\"525px\" width=\"100%\"></iframe>"
      ],
      "text/plain": [
       "<plotly.tools.PlotlyDisplay object>"
      ]
     },
     "execution_count": 46,
     "metadata": {},
     "output_type": "execute_result"
    }
   ],
   "source": [
    "dh_conc = dh.assign(concepto=lambda x: (x['DESC_CONCEPTO'].str.replace('.', '').str.lower()))\\\n",
    "    .query('CICLO==2019')\\\n",
    "    .groupby(['concepto']).sum()\\\n",
    "    .sort_values('aprobado', ascending=False)\\\n",
    "    [['aprobado']]\\\n",
    "    .reset_index()\\\n",
    "    .iloc[0:10]\n",
    "    \n",
    "trace1 = {\n",
    "  'x': dh_conc['concepto'],\n",
    "  'y': dh_ent['aprobado']/1000000,\n",
    "  'type': 'bar',\n",
    "  'orientation': 'v',\n",
    "  'marker': dict(\n",
    "        color='rgba(55, 128, 191, 0.7)',\n",
    "        line=dict(\n",
    "            color='rgba(55, 128, 191, 1.0)',\n",
    "            width=2,\n",
    "        )\n",
    "    )\n",
    "}\n",
    "\n",
    "data = [trace1];\n",
    "layout = {\n",
    "  'xaxis': {'title': ''},\n",
    "  'yaxis': {'title': 'Millones de pesos (a precios de 2018 )'},\n",
    "  'title': 'Top 10 conceptos de gasto en programas presupuestales de DDHH, 2019',\n",
    "};\n",
    "py.iplot({'data': data, 'layout': layout}, filename='presup-ddhh-concepto')"
   ]
  },
  {
   "cell_type": "code",
   "execution_count": null,
   "metadata": {
    "hidden": true
   },
   "outputs": [],
   "source": []
  },
  {
   "cell_type": "code",
   "execution_count": 32,
   "metadata": {
    "hidden": true
   },
   "outputs": [],
   "source": [
    "df_conc = df.assign(concepto=lambda x: (x['DESC_CONCEPTO'].str.replace('.', '').str.lower()))\\\n",
    "    .groupby(['concepto']).sum()"
   ]
  },
  {
   "cell_type": "code",
   "execution_count": 82,
   "metadata": {
    "hidden": true
   },
   "outputs": [
    {
     "data": {
      "text/html": [
       "<div>\n",
       "<style scoped>\n",
       "    .dataframe tbody tr th:only-of-type {\n",
       "        vertical-align: middle;\n",
       "    }\n",
       "\n",
       "    .dataframe tbody tr th {\n",
       "        vertical-align: top;\n",
       "    }\n",
       "\n",
       "    .dataframe thead th {\n",
       "        text-align: right;\n",
       "    }\n",
       "</style>\n",
       "<table border=\"1\" class=\"dataframe\">\n",
       "  <thead>\n",
       "    <tr style=\"text-align: right;\">\n",
       "      <th></th>\n",
       "      <th>concepto</th>\n",
       "      <th>aprobado</th>\n",
       "    </tr>\n",
       "  </thead>\n",
       "  <tbody>\n",
       "    <tr>\n",
       "      <th>0</th>\n",
       "      <td>otras prestaciones sociales y económicas</td>\n",
       "      <td>8.760424e+08</td>\n",
       "    </tr>\n",
       "    <tr>\n",
       "      <th>1</th>\n",
       "      <td>remuneraciones al personal de carácter permanente</td>\n",
       "      <td>2.851699e+08</td>\n",
       "    </tr>\n",
       "    <tr>\n",
       "      <th>2</th>\n",
       "      <td>remuneraciones adicionales y especiales</td>\n",
       "      <td>2.495595e+08</td>\n",
       "    </tr>\n",
       "    <tr>\n",
       "      <th>3</th>\n",
       "      <td>transferencias a fideicomisos, mandatos y otros análogos</td>\n",
       "      <td>2.007700e+08</td>\n",
       "    </tr>\n",
       "    <tr>\n",
       "      <th>4</th>\n",
       "      <td>servicios profesionales, científicos, técnicos y otros servicios</td>\n",
       "      <td>1.896900e+08</td>\n",
       "    </tr>\n",
       "    <tr>\n",
       "      <th>5</th>\n",
       "      <td>seguridad social</td>\n",
       "      <td>1.722944e+08</td>\n",
       "    </tr>\n",
       "    <tr>\n",
       "      <th>6</th>\n",
       "      <td>pago de estímulos a servidores públicos</td>\n",
       "      <td>1.509073e+08</td>\n",
       "    </tr>\n",
       "    <tr>\n",
       "      <th>7</th>\n",
       "      <td>otros servicios generales</td>\n",
       "      <td>1.071462e+08</td>\n",
       "    </tr>\n",
       "    <tr>\n",
       "      <th>8</th>\n",
       "      <td>servicios de arrendamiento</td>\n",
       "      <td>6.900276e+07</td>\n",
       "    </tr>\n",
       "    <tr>\n",
       "      <th>9</th>\n",
       "      <td>servicios de traslado y viáticos</td>\n",
       "      <td>5.319502e+07</td>\n",
       "    </tr>\n",
       "  </tbody>\n",
       "</table>\n",
       "</div>"
      ],
      "text/plain": [
       "                                                           concepto  \\\n",
       "0                          otras prestaciones sociales y económicas   \n",
       "1                 remuneraciones al personal de carácter permanente   \n",
       "2                           remuneraciones adicionales y especiales   \n",
       "3          transferencias a fideicomisos, mandatos y otros análogos   \n",
       "4  servicios profesionales, científicos, técnicos y otros servicios   \n",
       "5                                                  seguridad social   \n",
       "6                           pago de estímulos a servidores públicos   \n",
       "7                                         otros servicios generales   \n",
       "8                                        servicios de arrendamiento   \n",
       "9                                  servicios de traslado y viáticos   \n",
       "\n",
       "       aprobado  \n",
       "0  8.760424e+08  \n",
       "1  2.851699e+08  \n",
       "2  2.495595e+08  \n",
       "3  2.007700e+08  \n",
       "4  1.896900e+08  \n",
       "5  1.722944e+08  \n",
       "6  1.509073e+08  \n",
       "7  1.071462e+08  \n",
       "8  6.900276e+07  \n",
       "9  5.319502e+07  "
      ]
     },
     "execution_count": 82,
     "metadata": {},
     "output_type": "execute_result"
    }
   ],
   "source": [
    "dh_conc"
   ]
  },
  {
   "cell_type": "markdown",
   "metadata": {
    "heading_collapsed": true
   },
   "source": [
    "## Porcentaje que representa el gasto en DDHH como porcentaje del presupuesto total"
   ]
  },
  {
   "cell_type": "code",
   "execution_count": 71,
   "metadata": {
    "hidden": true
   },
   "outputs": [],
   "source": [
    "pres_total = (((df.groupby(['CICLO']).sum()['MONTO_APROBADO'])*deflactor.set_index('year')['deflactor'])/1000000000000).reset_index()\n",
    "prop_dh = (100*(dh.groupby(['CICLO']).sum()['aprobado']/((df.groupby(['CICLO']).sum()['MONTO_APROBADO'])*deflactor.set_index('year')['deflactor'])))\\\n",
    ".reset_index()"
   ]
  },
  {
   "cell_type": "code",
   "execution_count": 78,
   "metadata": {
    "hidden": true,
    "scrolled": true
   },
   "outputs": [
    {
     "data": {
      "text/html": [
       "<iframe id=\"igraph\" scrolling=\"no\" style=\"border:none;\" seamless=\"seamless\" src=\"https://plot.ly/~jjsantos/39.embed\" height=\"525px\" width=\"100%\"></iframe>"
      ],
      "text/plain": [
       "<plotly.tools.PlotlyDisplay object>"
      ]
     },
     "execution_count": 78,
     "metadata": {},
     "output_type": "execute_result"
    }
   ],
   "source": [
    "trace1 = go.Scatter(\n",
    "    x=prop_dh['CICLO'],\n",
    "    y=prop_dh[0],\n",
    "    name='Presupuesto en DDHH <br> (eje izquierdo)'\n",
    ")\n",
    "trace2 = go.Scatter(\n",
    "    x=pres_total['CICLO'],\n",
    "    y=pres_total[0],\n",
    "    name='Presupuesto total <br> (eje derecho)',\n",
    "    yaxis='y2'\n",
    ")\n",
    "data = [trace1, trace2]\n",
    "layout = go.Layout(\n",
    "    title='Proporción que representan los programas presupuestales en DDHH <br> en el presupuesto total',\n",
    "    yaxis=dict(\n",
    "        title='Porcentaje del presupuesto total'\n",
    "    ),\n",
    "    yaxis2=dict(\n",
    "        title='Billones de pesos <br>(a precios de 2018)',\n",
    "        titlefont=dict(\n",
    "            color='rgb(148, 103, 189)'\n",
    "        ),\n",
    "        tickfont=dict(\n",
    "            color='rgb(148, 103, 189)'\n",
    "        ),\n",
    "        overlaying='y',\n",
    "        side='right'\n",
    "    )\n",
    ")\n",
    "fig = go.Figure(data=data, layout=layout)\n",
    "py.iplot(fig, filename='presup-ddhh-prop')"
   ]
  },
  {
   "cell_type": "markdown",
   "metadata": {
    "heading_collapsed": true
   },
   "source": [
    "## Recomendaciones CNDH"
   ]
  },
  {
   "cell_type": "code",
   "execution_count": 81,
   "metadata": {
    "hidden": true,
    "scrolled": true
   },
   "outputs": [
    {
     "data": {
      "text/html": [
       "<iframe id=\"igraph\" scrolling=\"no\" style=\"border:none;\" seamless=\"seamless\" src=\"https://plot.ly/~jjsantos/41.embed\" height=\"525px\" width=\"100%\"></iframe>"
      ],
      "text/plain": [
       "<plotly.tools.PlotlyDisplay object>"
      ]
     },
     "execution_count": 81,
     "metadata": {},
     "output_type": "execute_result"
    }
   ],
   "source": [
    "#http://www.cndh.org.mx/Cifras_sobre_actividades_CNDH\n",
    "recom = pd.read_excel('datos/recomendaciones_CNDH.xlsx')\n",
    "   \n",
    "trace1 = {\n",
    "  'x': recom['year'],\n",
    "  'y': recom['recomendaciones'],\n",
    "  'type': 'bar',\n",
    "  'orientation': 'v',\n",
    "  'marker': dict(\n",
    "        color='rgba(55, 128, 191, 0.7)',\n",
    "        line=dict(\n",
    "            color='rgba(55, 128, 191, 1.0)',\n",
    "            width=2,\n",
    "        )\n",
    "    )\n",
    "}\n",
    "\n",
    "data = [trace1];\n",
    "layout = {\n",
    "  'xaxis': {'title': ''},\n",
    "  'yaxis': {'title': 'Número de recomendaciones'},\n",
    "  'title': 'Recomendaciones emitidas por la CNDH',\n",
    "};\n",
    "py.iplot({'data': data, 'layout': layout}, filename='recomendaciones-cndh')"
   ]
  },
  {
   "cell_type": "markdown",
   "metadata": {},
   "source": [
    "# Presupuesto por ramos"
   ]
  },
  {
   "cell_type": "code",
   "execution_count": 92,
   "metadata": {},
   "outputs": [],
   "source": [
    "presup_ramos_year = (dh.groupby(['DESC_RAMO', 'CICLO'])[['aprobado']].sum()/1000000).reset_index()\\\n",
    "    .assign(ramo=lambda x: x['DESC_RAMO'].map(dicc_ramos))\n",
    "presup_ramos_year.to_csv('datos/presup_ramo_year.csv', index=False)"
   ]
  },
  {
   "cell_type": "code",
   "execution_count": 94,
   "metadata": {},
   "outputs": [
    {
     "data": {
      "text/plain": [
       "Index(['DESC_AI', 'DESC_CAPITULO', 'DESC_CONCEPTO', 'DESC_FF', 'DESC_FUNCION',\n",
       "       'DESC_GPO_FUNCIONAL', 'DESC_MODALIDAD', 'DESC_PARTIDA_ESPECIFICA',\n",
       "       'DESC_PARTIDA_GENERICA', 'DESC_PP', 'DESC_RAMO', 'DESC_SUBFUNCION',\n",
       "       'DESC_TIPOGASTO', 'DESC_UR', 'ENTIDAD_FEDERATIVA', 'GPO_FUNCIONAL',\n",
       "       'ID_AI', 'ID_CAPITULO', 'ID_CLAVE_CARTERA', 'ID_CONCEPTO',\n",
       "       'ID_ENTIDAD_FEDERATIVA', 'ID_FF', 'ID_FUNCION', 'ID_MODALIDAD',\n",
       "       'ID_PARTIDA_ESPECIFICA', 'ID_PARTIDA_GENERICA', 'ID_PP', 'ID_RAMO',\n",
       "       'ID_SUBFUNCION', 'ID_TIPOGASTO', 'ID_UR', 'MONTO_ADEFAS',\n",
       "       'MONTO_APROBADO', 'MONTO_DEVENGADO', 'MONTO_EJERCICIO',\n",
       "       'MONTO_EJERCIDO', 'MONTO_MODIFICADO', 'MONTO_PAGADO', 'id_pp',\n",
       "       'aprobado', 'ejercicio', 'ejercido', 'modificado', 'devengado',\n",
       "       'pagado'],\n",
       "      dtype='object')"
      ]
     },
     "execution_count": 94,
     "metadata": {},
     "output_type": "execute_result"
    }
   ],
   "source": [
    "dh.keys()"
   ]
  },
  {
   "cell_type": "code",
   "execution_count": 113,
   "metadata": {},
   "outputs": [],
   "source": [
    "presup_tipogasto_year = (dh.groupby(['DESC_RAMO', 'CICLO', 'DESC_TIPOGASTO'])[['aprobado']].sum()/1000000).reset_index()\\\n",
    "    .assign(ramo=lambda x: x['DESC_RAMO'].map(dicc_ramos))\n",
    "presup_tipogasto_year.to_csv('datos/presup_tipogasto_year.csv', index=False)"
   ]
  },
  {
   "cell_type": "code",
   "execution_count": 122,
   "metadata": {
    "scrolled": true
   },
   "outputs": [
    {
     "data": {
      "text/html": [
       "<div>\n",
       "<style scoped>\n",
       "    .dataframe tbody tr th:only-of-type {\n",
       "        vertical-align: middle;\n",
       "    }\n",
       "\n",
       "    .dataframe tbody tr th {\n",
       "        vertical-align: top;\n",
       "    }\n",
       "\n",
       "    .dataframe thead th {\n",
       "        text-align: right;\n",
       "    }\n",
       "</style>\n",
       "<table border=\"1\" class=\"dataframe\">\n",
       "  <thead>\n",
       "    <tr style=\"text-align: right;\">\n",
       "      <th></th>\n",
       "      <th>DESC_RAMO</th>\n",
       "      <th>CICLO</th>\n",
       "      <th>DESC_TIPOGASTO</th>\n",
       "      <th>aprobado</th>\n",
       "      <th>ramo</th>\n",
       "    </tr>\n",
       "  </thead>\n",
       "  <tbody>\n",
       "    <tr>\n",
       "      <th>0</th>\n",
       "      <td>Comisión Nacional de los Derechos Humanos</td>\n",
       "      <td>2013</td>\n",
       "      <td>Gasto corriente</td>\n",
       "      <td>1620.280580</td>\n",
       "      <td>CNDH</td>\n",
       "    </tr>\n",
       "    <tr>\n",
       "      <th>1</th>\n",
       "      <td>Comisión Nacional de los Derechos Humanos</td>\n",
       "      <td>2013</td>\n",
       "      <td>Gasto de capital diferente de obra pública</td>\n",
       "      <td>52.829964</td>\n",
       "      <td>CNDH</td>\n",
       "    </tr>\n",
       "    <tr>\n",
       "      <th>2</th>\n",
       "      <td>Comisión Nacional de los Derechos Humanos</td>\n",
       "      <td>2013</td>\n",
       "      <td>Gasto de obra pública</td>\n",
       "      <td>17.917552</td>\n",
       "      <td>CNDH</td>\n",
       "    </tr>\n",
       "    <tr>\n",
       "      <th>3</th>\n",
       "      <td>Comisión Nacional de los Derechos Humanos</td>\n",
       "      <td>2014</td>\n",
       "      <td>Gasto corriente</td>\n",
       "      <td>1609.593161</td>\n",
       "      <td>CNDH</td>\n",
       "    </tr>\n",
       "    <tr>\n",
       "      <th>4</th>\n",
       "      <td>Comisión Nacional de los Derechos Humanos</td>\n",
       "      <td>2014</td>\n",
       "      <td>Gasto de capital diferente de obra pública</td>\n",
       "      <td>45.511605</td>\n",
       "      <td>CNDH</td>\n",
       "    </tr>\n",
       "    <tr>\n",
       "      <th>5</th>\n",
       "      <td>Comisión Nacional de los Derechos Humanos</td>\n",
       "      <td>2014</td>\n",
       "      <td>Gasto de obra pública</td>\n",
       "      <td>18.376163</td>\n",
       "      <td>CNDH</td>\n",
       "    </tr>\n",
       "    <tr>\n",
       "      <th>6</th>\n",
       "      <td>Comisión Nacional de los Derechos Humanos</td>\n",
       "      <td>2015</td>\n",
       "      <td>Gasto corriente</td>\n",
       "      <td>1644.186498</td>\n",
       "      <td>CNDH</td>\n",
       "    </tr>\n",
       "    <tr>\n",
       "      <th>7</th>\n",
       "      <td>Comisión Nacional de los Derechos Humanos</td>\n",
       "      <td>2015</td>\n",
       "      <td>Gasto de capital diferente de obra pública</td>\n",
       "      <td>33.500930</td>\n",
       "      <td>CNDH</td>\n",
       "    </tr>\n",
       "    <tr>\n",
       "      <th>8</th>\n",
       "      <td>Comisión Nacional de los Derechos Humanos</td>\n",
       "      <td>2015</td>\n",
       "      <td>Gasto de obra pública</td>\n",
       "      <td>18.243956</td>\n",
       "      <td>CNDH</td>\n",
       "    </tr>\n",
       "    <tr>\n",
       "      <th>9</th>\n",
       "      <td>Comisión Nacional de los Derechos Humanos</td>\n",
       "      <td>2016</td>\n",
       "      <td>Gasto corriente</td>\n",
       "      <td>1688.660270</td>\n",
       "      <td>CNDH</td>\n",
       "    </tr>\n",
       "    <tr>\n",
       "      <th>10</th>\n",
       "      <td>Comisión Nacional de los Derechos Humanos</td>\n",
       "      <td>2016</td>\n",
       "      <td>Gasto de capital diferente de obra pública</td>\n",
       "      <td>36.125522</td>\n",
       "      <td>CNDH</td>\n",
       "    </tr>\n",
       "    <tr>\n",
       "      <th>11</th>\n",
       "      <td>Comisión Nacional de los Derechos Humanos</td>\n",
       "      <td>2016</td>\n",
       "      <td>Gasto de obra pública</td>\n",
       "      <td>6.651933</td>\n",
       "      <td>CNDH</td>\n",
       "    </tr>\n",
       "    <tr>\n",
       "      <th>12</th>\n",
       "      <td>Comisión Nacional de los Derechos Humanos</td>\n",
       "      <td>2017</td>\n",
       "      <td>Gasto corriente</td>\n",
       "      <td>1774.916540</td>\n",
       "      <td>CNDH</td>\n",
       "    </tr>\n",
       "    <tr>\n",
       "      <th>13</th>\n",
       "      <td>Comisión Nacional de los Derechos Humanos</td>\n",
       "      <td>2017</td>\n",
       "      <td>Gasto de capital diferente de obra pública</td>\n",
       "      <td>30.909087</td>\n",
       "      <td>CNDH</td>\n",
       "    </tr>\n",
       "    <tr>\n",
       "      <th>14</th>\n",
       "      <td>Comisión Nacional de los Derechos Humanos</td>\n",
       "      <td>2017</td>\n",
       "      <td>Gasto de obra pública</td>\n",
       "      <td>6.230152</td>\n",
       "      <td>CNDH</td>\n",
       "    </tr>\n",
       "    <tr>\n",
       "      <th>15</th>\n",
       "      <td>Comisión Nacional de los Derechos Humanos</td>\n",
       "      <td>2018</td>\n",
       "      <td>Gasto corriente</td>\n",
       "      <td>1969.536715</td>\n",
       "      <td>CNDH</td>\n",
       "    </tr>\n",
       "    <tr>\n",
       "      <th>16</th>\n",
       "      <td>Comisión Nacional de los Derechos Humanos</td>\n",
       "      <td>2018</td>\n",
       "      <td>Gasto de capital diferente de obra pública</td>\n",
       "      <td>57.467514</td>\n",
       "      <td>CNDH</td>\n",
       "    </tr>\n",
       "    <tr>\n",
       "      <th>17</th>\n",
       "      <td>Comisión Nacional de los Derechos Humanos</td>\n",
       "      <td>2018</td>\n",
       "      <td>Gasto de obra pública</td>\n",
       "      <td>6.000000</td>\n",
       "      <td>CNDH</td>\n",
       "    </tr>\n",
       "    <tr>\n",
       "      <th>18</th>\n",
       "      <td>Comisión Nacional de los Derechos Humanos</td>\n",
       "      <td>2019</td>\n",
       "      <td>Gasto corriente</td>\n",
       "      <td>1747.221704</td>\n",
       "      <td>CNDH</td>\n",
       "    </tr>\n",
       "    <tr>\n",
       "      <th>19</th>\n",
       "      <td>Comisión Nacional de los Derechos Humanos</td>\n",
       "      <td>2019</td>\n",
       "      <td>Gasto de capital diferente de obra pública</td>\n",
       "      <td>2.654650</td>\n",
       "      <td>CNDH</td>\n",
       "    </tr>\n",
       "    <tr>\n",
       "      <th>20</th>\n",
       "      <td>Defensa Nacional</td>\n",
       "      <td>2013</td>\n",
       "      <td>Gasto corriente</td>\n",
       "      <td>54.205380</td>\n",
       "      <td>Defensa</td>\n",
       "    </tr>\n",
       "    <tr>\n",
       "      <th>21</th>\n",
       "      <td>Defensa Nacional</td>\n",
       "      <td>2014</td>\n",
       "      <td>Gasto corriente</td>\n",
       "      <td>48.468050</td>\n",
       "      <td>Defensa</td>\n",
       "    </tr>\n",
       "    <tr>\n",
       "      <th>22</th>\n",
       "      <td>Defensa Nacional</td>\n",
       "      <td>2014</td>\n",
       "      <td>Gasto de capital diferente de obra pública</td>\n",
       "      <td>0.000000</td>\n",
       "      <td>Defensa</td>\n",
       "    </tr>\n",
       "    <tr>\n",
       "      <th>23</th>\n",
       "      <td>Defensa Nacional</td>\n",
       "      <td>2015</td>\n",
       "      <td>Gasto corriente</td>\n",
       "      <td>50.127211</td>\n",
       "      <td>Defensa</td>\n",
       "    </tr>\n",
       "    <tr>\n",
       "      <th>24</th>\n",
       "      <td>Defensa Nacional</td>\n",
       "      <td>2016</td>\n",
       "      <td>Gasto corriente</td>\n",
       "      <td>70.414022</td>\n",
       "      <td>Defensa</td>\n",
       "    </tr>\n",
       "    <tr>\n",
       "      <th>25</th>\n",
       "      <td>Defensa Nacional</td>\n",
       "      <td>2017</td>\n",
       "      <td>Gasto corriente</td>\n",
       "      <td>64.905482</td>\n",
       "      <td>Defensa</td>\n",
       "    </tr>\n",
       "    <tr>\n",
       "      <th>26</th>\n",
       "      <td>Defensa Nacional</td>\n",
       "      <td>2018</td>\n",
       "      <td>Gasto corriente</td>\n",
       "      <td>62.404821</td>\n",
       "      <td>Defensa</td>\n",
       "    </tr>\n",
       "    <tr>\n",
       "      <th>27</th>\n",
       "      <td>Defensa Nacional</td>\n",
       "      <td>2019</td>\n",
       "      <td>Gasto corriente</td>\n",
       "      <td>66.269567</td>\n",
       "      <td>Defensa</td>\n",
       "    </tr>\n",
       "    <tr>\n",
       "      <th>28</th>\n",
       "      <td>Gobernación</td>\n",
       "      <td>2013</td>\n",
       "      <td>Gasto corriente</td>\n",
       "      <td>411.931161</td>\n",
       "      <td>SEGOB</td>\n",
       "    </tr>\n",
       "    <tr>\n",
       "      <th>29</th>\n",
       "      <td>Gobernación</td>\n",
       "      <td>2014</td>\n",
       "      <td>Gasto corriente</td>\n",
       "      <td>365.673031</td>\n",
       "      <td>SEGOB</td>\n",
       "    </tr>\n",
       "    <tr>\n",
       "      <th>30</th>\n",
       "      <td>Gobernación</td>\n",
       "      <td>2014</td>\n",
       "      <td>Gasto corriente por concepto de recursos otorgados a fideicomisos públicos no considerados entidad paraestatal cuyo propósito financiero se limite a la administración y pago</td>\n",
       "      <td>211.491877</td>\n",
       "      <td>SEGOB</td>\n",
       "    </tr>\n",
       "    <tr>\n",
       "      <th>31</th>\n",
       "      <td>Gobernación</td>\n",
       "      <td>2015</td>\n",
       "      <td>Gasto corriente</td>\n",
       "      <td>391.893637</td>\n",
       "      <td>SEGOB</td>\n",
       "    </tr>\n",
       "    <tr>\n",
       "      <th>32</th>\n",
       "      <td>Gobernación</td>\n",
       "      <td>2015</td>\n",
       "      <td>Gasto corriente por concepto de recursos otorgados a fideicomisos públicos no considerados entidad paraestatal cuyo propósito financiero se limite a la administración y pago</td>\n",
       "      <td>214.022315</td>\n",
       "      <td>SEGOB</td>\n",
       "    </tr>\n",
       "    <tr>\n",
       "      <th>33</th>\n",
       "      <td>Gobernación</td>\n",
       "      <td>2016</td>\n",
       "      <td>Gasto corriente</td>\n",
       "      <td>397.522469</td>\n",
       "      <td>SEGOB</td>\n",
       "    </tr>\n",
       "    <tr>\n",
       "      <th>34</th>\n",
       "      <td>Gobernación</td>\n",
       "      <td>2016</td>\n",
       "      <td>Gasto corriente por concepto de recursos otorgados a fideicomisos públicos no considerados entidad paraestatal cuyo propósito financiero se limite a la administración y pago</td>\n",
       "      <td>207.064933</td>\n",
       "      <td>SEGOB</td>\n",
       "    </tr>\n",
       "    <tr>\n",
       "      <th>35</th>\n",
       "      <td>Gobernación</td>\n",
       "      <td>2017</td>\n",
       "      <td>Gasto corriente</td>\n",
       "      <td>326.450306</td>\n",
       "      <td>SEGOB</td>\n",
       "    </tr>\n",
       "    <tr>\n",
       "      <th>36</th>\n",
       "      <td>Gobernación</td>\n",
       "      <td>2017</td>\n",
       "      <td>Gasto corriente por concepto de recursos otorgados a fideicomisos públicos no considerados entidad paraestatal cuyo propósito financiero se limite a la administración y pago</td>\n",
       "      <td>16.248650</td>\n",
       "      <td>SEGOB</td>\n",
       "    </tr>\n",
       "    <tr>\n",
       "      <th>37</th>\n",
       "      <td>Gobernación</td>\n",
       "      <td>2018</td>\n",
       "      <td>Gasto corriente</td>\n",
       "      <td>312.607300</td>\n",
       "      <td>SEGOB</td>\n",
       "    </tr>\n",
       "    <tr>\n",
       "      <th>38</th>\n",
       "      <td>Gobernación</td>\n",
       "      <td>2018</td>\n",
       "      <td>Gasto corriente por concepto de recursos otorgados a fideicomisos públicos no considerados entidad paraestatal cuyo propósito financiero se limite a la administración y pago</td>\n",
       "      <td>200.000000</td>\n",
       "      <td>SEGOB</td>\n",
       "    </tr>\n",
       "    <tr>\n",
       "      <th>39</th>\n",
       "      <td>Gobernación</td>\n",
       "      <td>2019</td>\n",
       "      <td>Gasto corriente</td>\n",
       "      <td>277.224360</td>\n",
       "      <td>SEGOB</td>\n",
       "    </tr>\n",
       "    <tr>\n",
       "      <th>40</th>\n",
       "      <td>Gobernación</td>\n",
       "      <td>2019</td>\n",
       "      <td>Gasto corriente por concepto de recursos otorgados a fideicomisos públicos no considerados entidad paraestatal cuyo propósito financiero se limite a la administración y pago</td>\n",
       "      <td>200.769960</td>\n",
       "      <td>SEGOB</td>\n",
       "    </tr>\n",
       "    <tr>\n",
       "      <th>41</th>\n",
       "      <td>Instituto Nacional de Transparencia, Acceso a la Información y Protección de Datos Personales</td>\n",
       "      <td>2016</td>\n",
       "      <td>Gasto corriente</td>\n",
       "      <td>113.749514</td>\n",
       "      <td>INAI</td>\n",
       "    </tr>\n",
       "    <tr>\n",
       "      <th>42</th>\n",
       "      <td>Instituto Nacional de Transparencia, Acceso a la Información y Protección de Datos Personales</td>\n",
       "      <td>2017</td>\n",
       "      <td>Gasto corriente</td>\n",
       "      <td>64.643933</td>\n",
       "      <td>INAI</td>\n",
       "    </tr>\n",
       "    <tr>\n",
       "      <th>43</th>\n",
       "      <td>Instituto Nacional de Transparencia, Acceso a la Información y Protección de Datos Personales</td>\n",
       "      <td>2018</td>\n",
       "      <td>Gasto corriente</td>\n",
       "      <td>71.353797</td>\n",
       "      <td>INAI</td>\n",
       "    </tr>\n",
       "    <tr>\n",
       "      <th>44</th>\n",
       "      <td>Instituto Nacional de Transparencia, Acceso a la Información y Protección de Datos Personales</td>\n",
       "      <td>2019</td>\n",
       "      <td>Gasto corriente</td>\n",
       "      <td>59.713629</td>\n",
       "      <td>INAI</td>\n",
       "    </tr>\n",
       "    <tr>\n",
       "      <th>45</th>\n",
       "      <td>Procuraduría General de la República</td>\n",
       "      <td>2013</td>\n",
       "      <td>Gasto corriente</td>\n",
       "      <td>166.568344</td>\n",
       "      <td>PGR</td>\n",
       "    </tr>\n",
       "    <tr>\n",
       "      <th>46</th>\n",
       "      <td>Procuraduría General de la República</td>\n",
       "      <td>2014</td>\n",
       "      <td>Gasto corriente</td>\n",
       "      <td>186.218449</td>\n",
       "      <td>PGR</td>\n",
       "    </tr>\n",
       "    <tr>\n",
       "      <th>47</th>\n",
       "      <td>Procuraduría General de la República</td>\n",
       "      <td>2015</td>\n",
       "      <td>Gasto corriente</td>\n",
       "      <td>278.396413</td>\n",
       "      <td>PGR</td>\n",
       "    </tr>\n",
       "    <tr>\n",
       "      <th>48</th>\n",
       "      <td>Procuraduría General de la República</td>\n",
       "      <td>2016</td>\n",
       "      <td>Gasto corriente</td>\n",
       "      <td>277.596477</td>\n",
       "      <td>PGR</td>\n",
       "    </tr>\n",
       "    <tr>\n",
       "      <th>49</th>\n",
       "      <td>Procuraduría General de la República</td>\n",
       "      <td>2017</td>\n",
       "      <td>Gasto corriente</td>\n",
       "      <td>268.571897</td>\n",
       "      <td>PGR</td>\n",
       "    </tr>\n",
       "    <tr>\n",
       "      <th>50</th>\n",
       "      <td>Procuraduría General de la República</td>\n",
       "      <td>2018</td>\n",
       "      <td>Gasto corriente</td>\n",
       "      <td>222.946016</td>\n",
       "      <td>PGR</td>\n",
       "    </tr>\n",
       "    <tr>\n",
       "      <th>51</th>\n",
       "      <td>Procuraduría General de la República</td>\n",
       "      <td>2019</td>\n",
       "      <td>Gasto corriente</td>\n",
       "      <td>198.734595</td>\n",
       "      <td>PGR</td>\n",
       "    </tr>\n",
       "    <tr>\n",
       "      <th>52</th>\n",
       "      <td>Relaciones Exteriores</td>\n",
       "      <td>2013</td>\n",
       "      <td>Gasto corriente</td>\n",
       "      <td>22.165420</td>\n",
       "      <td>SRE</td>\n",
       "    </tr>\n",
       "    <tr>\n",
       "      <th>53</th>\n",
       "      <td>Relaciones Exteriores</td>\n",
       "      <td>2014</td>\n",
       "      <td>Gasto corriente</td>\n",
       "      <td>21.110285</td>\n",
       "      <td>SRE</td>\n",
       "    </tr>\n",
       "    <tr>\n",
       "      <th>54</th>\n",
       "      <td>Relaciones Exteriores</td>\n",
       "      <td>2015</td>\n",
       "      <td>Gasto corriente</td>\n",
       "      <td>23.188409</td>\n",
       "      <td>SRE</td>\n",
       "    </tr>\n",
       "    <tr>\n",
       "      <th>55</th>\n",
       "      <td>Seguridad Pública</td>\n",
       "      <td>2013</td>\n",
       "      <td>Gasto corriente</td>\n",
       "      <td>230.604400</td>\n",
       "      <td>SSP</td>\n",
       "    </tr>\n",
       "  </tbody>\n",
       "</table>\n",
       "</div>"
      ],
      "text/plain": [
       "                                                                                        DESC_RAMO  \\\n",
       "0                                                       Comisión Nacional de los Derechos Humanos   \n",
       "1                                                       Comisión Nacional de los Derechos Humanos   \n",
       "2                                                       Comisión Nacional de los Derechos Humanos   \n",
       "3                                                       Comisión Nacional de los Derechos Humanos   \n",
       "4                                                       Comisión Nacional de los Derechos Humanos   \n",
       "5                                                       Comisión Nacional de los Derechos Humanos   \n",
       "6                                                       Comisión Nacional de los Derechos Humanos   \n",
       "7                                                       Comisión Nacional de los Derechos Humanos   \n",
       "8                                                       Comisión Nacional de los Derechos Humanos   \n",
       "9                                                       Comisión Nacional de los Derechos Humanos   \n",
       "10                                                      Comisión Nacional de los Derechos Humanos   \n",
       "11                                                      Comisión Nacional de los Derechos Humanos   \n",
       "12                                                      Comisión Nacional de los Derechos Humanos   \n",
       "13                                                      Comisión Nacional de los Derechos Humanos   \n",
       "14                                                      Comisión Nacional de los Derechos Humanos   \n",
       "15                                                      Comisión Nacional de los Derechos Humanos   \n",
       "16                                                      Comisión Nacional de los Derechos Humanos   \n",
       "17                                                      Comisión Nacional de los Derechos Humanos   \n",
       "18                                                      Comisión Nacional de los Derechos Humanos   \n",
       "19                                                      Comisión Nacional de los Derechos Humanos   \n",
       "20                                                                               Defensa Nacional   \n",
       "21                                                                               Defensa Nacional   \n",
       "22                                                                               Defensa Nacional   \n",
       "23                                                                               Defensa Nacional   \n",
       "24                                                                               Defensa Nacional   \n",
       "25                                                                               Defensa Nacional   \n",
       "26                                                                               Defensa Nacional   \n",
       "27                                                                               Defensa Nacional   \n",
       "28                                                                                    Gobernación   \n",
       "29                                                                                    Gobernación   \n",
       "30                                                                                    Gobernación   \n",
       "31                                                                                    Gobernación   \n",
       "32                                                                                    Gobernación   \n",
       "33                                                                                    Gobernación   \n",
       "34                                                                                    Gobernación   \n",
       "35                                                                                    Gobernación   \n",
       "36                                                                                    Gobernación   \n",
       "37                                                                                    Gobernación   \n",
       "38                                                                                    Gobernación   \n",
       "39                                                                                    Gobernación   \n",
       "40                                                                                    Gobernación   \n",
       "41  Instituto Nacional de Transparencia, Acceso a la Información y Protección de Datos Personales   \n",
       "42  Instituto Nacional de Transparencia, Acceso a la Información y Protección de Datos Personales   \n",
       "43  Instituto Nacional de Transparencia, Acceso a la Información y Protección de Datos Personales   \n",
       "44  Instituto Nacional de Transparencia, Acceso a la Información y Protección de Datos Personales   \n",
       "45                                                           Procuraduría General de la República   \n",
       "46                                                           Procuraduría General de la República   \n",
       "47                                                           Procuraduría General de la República   \n",
       "48                                                           Procuraduría General de la República   \n",
       "49                                                           Procuraduría General de la República   \n",
       "50                                                           Procuraduría General de la República   \n",
       "51                                                           Procuraduría General de la República   \n",
       "52                                                                          Relaciones Exteriores   \n",
       "53                                                                          Relaciones Exteriores   \n",
       "54                                                                          Relaciones Exteriores   \n",
       "55                                                                              Seguridad Pública   \n",
       "\n",
       "    CICLO  \\\n",
       "0    2013   \n",
       "1    2013   \n",
       "2    2013   \n",
       "3    2014   \n",
       "4    2014   \n",
       "5    2014   \n",
       "6    2015   \n",
       "7    2015   \n",
       "8    2015   \n",
       "9    2016   \n",
       "10   2016   \n",
       "11   2016   \n",
       "12   2017   \n",
       "13   2017   \n",
       "14   2017   \n",
       "15   2018   \n",
       "16   2018   \n",
       "17   2018   \n",
       "18   2019   \n",
       "19   2019   \n",
       "20   2013   \n",
       "21   2014   \n",
       "22   2014   \n",
       "23   2015   \n",
       "24   2016   \n",
       "25   2017   \n",
       "26   2018   \n",
       "27   2019   \n",
       "28   2013   \n",
       "29   2014   \n",
       "30   2014   \n",
       "31   2015   \n",
       "32   2015   \n",
       "33   2016   \n",
       "34   2016   \n",
       "35   2017   \n",
       "36   2017   \n",
       "37   2018   \n",
       "38   2018   \n",
       "39   2019   \n",
       "40   2019   \n",
       "41   2016   \n",
       "42   2017   \n",
       "43   2018   \n",
       "44   2019   \n",
       "45   2013   \n",
       "46   2014   \n",
       "47   2015   \n",
       "48   2016   \n",
       "49   2017   \n",
       "50   2018   \n",
       "51   2019   \n",
       "52   2013   \n",
       "53   2014   \n",
       "54   2015   \n",
       "55   2013   \n",
       "\n",
       "                                                                                                                                                                   DESC_TIPOGASTO  \\\n",
       "0                                                                                                                                                                 Gasto corriente   \n",
       "1                                                                                                                                      Gasto de capital diferente de obra pública   \n",
       "2                                                                                                                                                           Gasto de obra pública   \n",
       "3                                                                                                                                                                 Gasto corriente   \n",
       "4                                                                                                                                      Gasto de capital diferente de obra pública   \n",
       "5                                                                                                                                                           Gasto de obra pública   \n",
       "6                                                                                                                                                                 Gasto corriente   \n",
       "7                                                                                                                                      Gasto de capital diferente de obra pública   \n",
       "8                                                                                                                                                           Gasto de obra pública   \n",
       "9                                                                                                                                                                 Gasto corriente   \n",
       "10                                                                                                                                     Gasto de capital diferente de obra pública   \n",
       "11                                                                                                                                                          Gasto de obra pública   \n",
       "12                                                                                                                                                                Gasto corriente   \n",
       "13                                                                                                                                     Gasto de capital diferente de obra pública   \n",
       "14                                                                                                                                                          Gasto de obra pública   \n",
       "15                                                                                                                                                                Gasto corriente   \n",
       "16                                                                                                                                     Gasto de capital diferente de obra pública   \n",
       "17                                                                                                                                                          Gasto de obra pública   \n",
       "18                                                                                                                                                                Gasto corriente   \n",
       "19                                                                                                                                     Gasto de capital diferente de obra pública   \n",
       "20                                                                                                                                                                Gasto corriente   \n",
       "21                                                                                                                                                                Gasto corriente   \n",
       "22                                                                                                                                     Gasto de capital diferente de obra pública   \n",
       "23                                                                                                                                                                Gasto corriente   \n",
       "24                                                                                                                                                                Gasto corriente   \n",
       "25                                                                                                                                                                Gasto corriente   \n",
       "26                                                                                                                                                                Gasto corriente   \n",
       "27                                                                                                                                                                Gasto corriente   \n",
       "28                                                                                                                                                                Gasto corriente   \n",
       "29                                                                                                                                                                Gasto corriente   \n",
       "30  Gasto corriente por concepto de recursos otorgados a fideicomisos públicos no considerados entidad paraestatal cuyo propósito financiero se limite a la administración y pago   \n",
       "31                                                                                                                                                                Gasto corriente   \n",
       "32  Gasto corriente por concepto de recursos otorgados a fideicomisos públicos no considerados entidad paraestatal cuyo propósito financiero se limite a la administración y pago   \n",
       "33                                                                                                                                                                Gasto corriente   \n",
       "34  Gasto corriente por concepto de recursos otorgados a fideicomisos públicos no considerados entidad paraestatal cuyo propósito financiero se limite a la administración y pago   \n",
       "35                                                                                                                                                                Gasto corriente   \n",
       "36  Gasto corriente por concepto de recursos otorgados a fideicomisos públicos no considerados entidad paraestatal cuyo propósito financiero se limite a la administración y pago   \n",
       "37                                                                                                                                                                Gasto corriente   \n",
       "38  Gasto corriente por concepto de recursos otorgados a fideicomisos públicos no considerados entidad paraestatal cuyo propósito financiero se limite a la administración y pago   \n",
       "39                                                                                                                                                                Gasto corriente   \n",
       "40  Gasto corriente por concepto de recursos otorgados a fideicomisos públicos no considerados entidad paraestatal cuyo propósito financiero se limite a la administración y pago   \n",
       "41                                                                                                                                                                Gasto corriente   \n",
       "42                                                                                                                                                                Gasto corriente   \n",
       "43                                                                                                                                                                Gasto corriente   \n",
       "44                                                                                                                                                                Gasto corriente   \n",
       "45                                                                                                                                                                Gasto corriente   \n",
       "46                                                                                                                                                                Gasto corriente   \n",
       "47                                                                                                                                                                Gasto corriente   \n",
       "48                                                                                                                                                                Gasto corriente   \n",
       "49                                                                                                                                                                Gasto corriente   \n",
       "50                                                                                                                                                                Gasto corriente   \n",
       "51                                                                                                                                                                Gasto corriente   \n",
       "52                                                                                                                                                                Gasto corriente   \n",
       "53                                                                                                                                                                Gasto corriente   \n",
       "54                                                                                                                                                                Gasto corriente   \n",
       "55                                                                                                                                                                Gasto corriente   \n",
       "\n",
       "       aprobado     ramo  \n",
       "0   1620.280580     CNDH  \n",
       "1     52.829964     CNDH  \n",
       "2     17.917552     CNDH  \n",
       "3   1609.593161     CNDH  \n",
       "4     45.511605     CNDH  \n",
       "5     18.376163     CNDH  \n",
       "6   1644.186498     CNDH  \n",
       "7     33.500930     CNDH  \n",
       "8     18.243956     CNDH  \n",
       "9   1688.660270     CNDH  \n",
       "10    36.125522     CNDH  \n",
       "11     6.651933     CNDH  \n",
       "12  1774.916540     CNDH  \n",
       "13    30.909087     CNDH  \n",
       "14     6.230152     CNDH  \n",
       "15  1969.536715     CNDH  \n",
       "16    57.467514     CNDH  \n",
       "17     6.000000     CNDH  \n",
       "18  1747.221704     CNDH  \n",
       "19     2.654650     CNDH  \n",
       "20    54.205380  Defensa  \n",
       "21    48.468050  Defensa  \n",
       "22     0.000000  Defensa  \n",
       "23    50.127211  Defensa  \n",
       "24    70.414022  Defensa  \n",
       "25    64.905482  Defensa  \n",
       "26    62.404821  Defensa  \n",
       "27    66.269567  Defensa  \n",
       "28   411.931161    SEGOB  \n",
       "29   365.673031    SEGOB  \n",
       "30   211.491877    SEGOB  \n",
       "31   391.893637    SEGOB  \n",
       "32   214.022315    SEGOB  \n",
       "33   397.522469    SEGOB  \n",
       "34   207.064933    SEGOB  \n",
       "35   326.450306    SEGOB  \n",
       "36    16.248650    SEGOB  \n",
       "37   312.607300    SEGOB  \n",
       "38   200.000000    SEGOB  \n",
       "39   277.224360    SEGOB  \n",
       "40   200.769960    SEGOB  \n",
       "41   113.749514     INAI  \n",
       "42    64.643933     INAI  \n",
       "43    71.353797     INAI  \n",
       "44    59.713629     INAI  \n",
       "45   166.568344      PGR  \n",
       "46   186.218449      PGR  \n",
       "47   278.396413      PGR  \n",
       "48   277.596477      PGR  \n",
       "49   268.571897      PGR  \n",
       "50   222.946016      PGR  \n",
       "51   198.734595      PGR  \n",
       "52    22.165420      SRE  \n",
       "53    21.110285      SRE  \n",
       "54    23.188409      SRE  \n",
       "55   230.604400      SSP  "
      ]
     },
     "execution_count": 122,
     "metadata": {},
     "output_type": "execute_result"
    }
   ],
   "source": [
    "presup_tipogasto_year"
   ]
  },
  {
   "cell_type": "markdown",
   "metadata": {},
   "source": [
    "## Presupuesto por concepto. Top 10"
   ]
  },
  {
   "cell_type": "code",
   "execution_count": 150,
   "metadata": {},
   "outputs": [],
   "source": [
    "dh_concepto = dh.groupby(['DESC_RAMO', 'CICLO', 'DESC_CONCEPTO']).apply(lambda x: x[['aprobado']].sum())\\\n",
    "                                                          .groupby(['DESC_RAMO', 'CICLO'])\\\n",
    "                                                          .apply(lambda y: y.sort_values( 'aprobado',ascending=False).iloc[1:10])\n",
    "dh_concepto.index = dh_concepto.index.droplevel([2,3])"
   ]
  },
  {
   "cell_type": "code",
   "execution_count": 153,
   "metadata": {},
   "outputs": [],
   "source": [
    "dh_concepto.to_csv('presup_top10_concepto_ramo_year.csv', index=False)"
   ]
  },
  {
   "cell_type": "code",
   "execution_count": 112,
   "metadata": {},
   "outputs": [
    {
     "data": {
      "text/plain": [
       "0"
      ]
     },
     "execution_count": 112,
     "metadata": {},
     "output_type": "execute_result"
    }
   ],
   "source": [
    "df.query('CICLO==2014')['MONTO_APROBADO'].sum()\n",
    "\n",
    "df.DESC_PP.isnull().sum()"
   ]
  }
 ],
 "metadata": {
  "hide_input": false,
  "kernelspec": {
   "display_name": "Python 3",
   "language": "python",
   "name": "python3"
  },
  "language_info": {
   "codemirror_mode": {
    "name": "ipython",
    "version": 3
   },
   "file_extension": ".py",
   "mimetype": "text/x-python",
   "name": "python",
   "nbconvert_exporter": "python",
   "pygments_lexer": "ipython3",
   "version": "3.6.4"
  },
  "toc": {
   "base_numbering": 1,
   "nav_menu": {},
   "number_sections": true,
   "sideBar": true,
   "skip_h1_title": false,
   "title_cell": "Table of Contents",
   "title_sidebar": "Contents",
   "toc_cell": false,
   "toc_position": {},
   "toc_section_display": true,
   "toc_window_display": false
  },
  "varInspector": {
   "cols": {
    "lenName": 16,
    "lenType": 16,
    "lenVar": 40
   },
   "kernels_config": {
    "python": {
     "delete_cmd_postfix": "",
     "delete_cmd_prefix": "del ",
     "library": "var_list.py",
     "varRefreshCmd": "print(var_dic_list())"
    },
    "r": {
     "delete_cmd_postfix": ") ",
     "delete_cmd_prefix": "rm(",
     "library": "var_list.r",
     "varRefreshCmd": "cat(var_dic_list()) "
    }
   },
   "types_to_exclude": [
    "module",
    "function",
    "builtin_function_or_method",
    "instance",
    "_Feature"
   ],
   "window_display": false
  }
 },
 "nbformat": 4,
 "nbformat_minor": 2
}
